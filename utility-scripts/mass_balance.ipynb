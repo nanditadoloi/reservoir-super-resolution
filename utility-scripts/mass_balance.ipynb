{
 "cells": [
  {
   "cell_type": "code",
   "execution_count": 1,
   "metadata": {},
   "outputs": [],
   "source": [
    "import numpy as np\n",
    "import pandas as pd"
   ]
  },
  {
   "cell_type": "code",
   "execution_count": 4,
   "metadata": {},
   "outputs": [],
   "source": [
    "data = np.load(\"Data/sample_data.npz\")\n",
    "SR_OS = data['SR_OS']\n",
    "LR_OS = data['LR_OS']\n",
    "SR_poro = data['SR_poro']\n",
    "LR_poro = data['LR_poro']\n",
    "SR_BPR = data['SR_BPR']\n",
    "LR_BPR = data['LR_BPR']"
   ]
  },
  {
   "cell_type": "code",
   "execution_count": 39,
   "metadata": {},
   "outputs": [
    {
     "name": "stdout",
     "output_type": "stream",
     "text": [
      "1.0106944444444446\n"
     ]
    }
   ],
   "source": [
    "def giveMeDensityMyLove(pressure):\n",
    "    pvdo_table = np.array([[300,1.05],[800,1.02],[8000,1.01]])\n",
    "    pl = None\n",
    "    ph = None\n",
    "    for i in range(pvdo_table.shape[0]):\n",
    "        if pvdo_table[i,0]>=pressure:\n",
    "            pl = i-1\n",
    "            ph = i\n",
    "            break\n",
    "    if pl is None:\n",
    "        # Data beyond table. Cannot Extrapolate\n",
    "        return pvdo_table[pvdo_table.shape[0]-1,1]\n",
    "    elif pl < 0:\n",
    "        # Data beyond table. Cannot Extrapolate\n",
    "        return pvdo_table[0,1]\n",
    "    else:\n",
    "        # Linearly interpolate bo between two table entries\n",
    "        dbo_dp = (pvdo_table[ph,1]-pvdo_table[pl,1])/(pvdo_table[ph,0]-pvdo_table[pl,0])\n",
    "        Dp = pressure-pvdo_table[pl,0]\n",
    "        return pvdo_table[pl,1]+(dbo_dp*Dp)\n",
    "print(giveMeDensityMyLove(7500))"
   ]
  },
  {
   "cell_type": "code",
   "execution_count": 42,
   "metadata": {},
   "outputs": [
    {
     "name": "stdout",
     "output_type": "stream",
     "text": [
      "27198682.18005914 26584075.005984776\n",
      "Percentage Error in Mass Balance= 2.311937405894313 <3\n"
     ]
    }
   ],
   "source": [
    "vol_cell_SR = 10*20*2               # Volume of a Cell in Super Res Model\n",
    "vol_cell_LR = 20*40*2               # Volume of a Cell in Low Res Model                 \n",
    "rho_So = 53                         # Density of Oil in Surface\n",
    "\n",
    "rho_SR*SR_poro*vol_cell_SR*SR_OS\n",
    "\n",
    "Vol_FS_SR = SR_poro*vol_cell_SR     # Porosity = Volume of Free space / Volume of Cell\n",
    "Vol_Oil_SR = SR_OS*Vol_FS_SR        # Oil Saturation = Volume of Oil / Volume of free space\n",
    "bo_SR = np.zeros(Vol_Oil_SR.shape)\n",
    "for i in range(bo_SR.shape[0]):\n",
    "    for j in range(bo_SR.shape[1]):\n",
    "        for k in range(bo_SR.shape[2]):\n",
    "            bo_SR[i,j,k] = giveMeDensityMyLove(SR_BPR[i,j,k]) # Getting bo for each cell's pressure\n",
    "rho_SR = bo_SR*rho_So               # bo = density of Oil in the cell / density of Oil in Surface\n",
    "mass_SR = rho_SR*Vol_Oil_SR\n",
    "\n",
    "Vol_FS_LR = LR_poro*vol_cell_LR\n",
    "Vol_Oil_LR = LR_OS*Vol_FS_LR\n",
    "bo_LR = np.zeros(Vol_Oil_LR.shape)\n",
    "for i in range(bo_LR.shape[0]):\n",
    "    for j in range(bo_LR.shape[1]):\n",
    "        for k in range(bo_LR.shape[2]):\n",
    "            bo_LR[i,j,k] = giveMeDensityMyLove(LR_BPR[i,j,k])\n",
    "rho_LR = bo_LR*rho_So\n",
    "mass_LR = rho_LR*Vol_Oil_LR\n",
    "\n",
    "print(np.sum(mass_SR),np.sum(mass_LR))\n",
    "print(\"Percentage Error in Mass Balance=\",(np.sum(mass_SR)-np.sum(mass_LR))*100/np.sum(mass_LR),\"<3\")"
   ]
  },
  {
   "cell_type": "code",
   "execution_count": 41,
   "metadata": {},
   "outputs": [
    {
     "data": {
      "text/plain": [
       "[<matplotlib.lines.Line2D at 0x7fa910eaf550>]"
      ]
     },
     "execution_count": 41,
     "metadata": {},
     "output_type": "execute_result"
    },
    {
     "data": {
      "image/png": "[encoded data removed]",
      "text/plain": [
       "<Figure size 432x288 with 1 Axes>"
      ]
     },
     "metadata": {
      "needs_background": "light"
     },
     "output_type": "display_data"
    }
   ],
   "source": [
    "import matplotlib.pyplot as plt\n",
    "ps=np.arange(100,8200)\n",
    "bos=[]\n",
    "for p in ps:\n",
    "    bos.append(giveMeDensityMyLove(p))\n",
    "plt.plot(ps, bos, '-')"
   ]
  },
  {
   "cell_type": "code",
   "execution_count": null,
   "metadata": {},
   "outputs": [],
   "source": []
  },
  {
   "cell_type": "code",
   "execution_count": null,
   "metadata": {},
   "outputs": [],
   "source": []
  }
 ],
 "metadata": {
  "kernelspec": {
   "display_name": "Python 3",
   "language": "python",
   "name": "python3"
  },
  "language_info": {
   "codemirror_mode": {
    "name": "ipython",
    "version": 3
   },
   "file_extension": ".py",
   "mimetype": "text/x-python",
   "name": "python",
   "nbconvert_exporter": "python",
   "pygments_lexer": "ipython3",
   "version": "3.9.2"
  }
 },
 "nbformat": 4,
 "nbformat_minor": 4
}
